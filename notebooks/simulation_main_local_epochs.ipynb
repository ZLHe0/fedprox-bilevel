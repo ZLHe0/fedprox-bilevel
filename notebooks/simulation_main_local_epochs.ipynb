{
 "cells": [
  {
   "cell_type": "markdown",
   "metadata": {},
   "source": [
    "## Parameter Setup"
   ]
  },
  {
   "cell_type": "code",
   "execution_count": 7,
   "metadata": {},
   "outputs": [],
   "source": [
    "import subprocess\n",
    "import numpy as np\n",
    "import os; os.chdir('../src') # For server\n",
    "from datetime import datetime\n",
    "\n",
    "# Parameters for all methods\n",
    "method = 'FedProx'\n",
    "mu_value = 0.5\n",
    "local_epochs_list = [25, 50, 75, 100, 125, 150]  # Different number of local epochs to test\n",
    "global_lr_fedprox = 1/mu_value + 1/9.13\n",
    "local_lr_fedprox = 1/(9.13+mu_value)\n",
    "random_seed = 1\n",
    "R_combined = [1.0]\n",
    "\n",
    "num_clients = 10\n",
    "num_samples = 200\n",
    "input_dim = 10\n",
    "num_classes = 2\n",
    "data_dir = '../data/fedprox_syndata/test'\n",
    "output_data_dir = '../results/test'\n",
    "stopping_threshold = -1\n",
    "num_rounds = 20  # Number of rounds\n",
    "\n",
    "# Parameters for data generation\n",
    "num_devices = num_clients\n",
    "x_dim = input_dim\n",
    "b_dim = num_classes"
   ]
  },
  {
   "cell_type": "markdown",
   "metadata": {},
   "source": [
    "## Run the Model and Collect Results"
   ]
  },
  {
   "cell_type": "code",
   "execution_count": 8,
   "metadata": {},
   "outputs": [],
   "source": [
    "start_time = datetime.now().strftime('%Y-%m-%d %H:%M:%S')\n",
    "print(f\"Start time: {start_time}\")\n",
    "\n",
    "# Loop through each choice of R\n",
    "for R in R_combined:\n",
    "    # Generate data for the current R with specified dimensions and number of devices\n",
    "    print(f\"Generating data for R={R} with {num_devices} devices...\")\n",
    "    subprocess.run(f\"python simulation/generate_data.py --R {R} --num_devices {num_devices} --n_samples {num_samples} \"\n",
    "                   f\"--x_dim {x_dim} --b_dim {b_dim} --seed {random_seed} \"\n",
    "                   f\"--output_dir {data_dir}\", shell=True, check=True)\n",
    "\n",
    "    # Loop through each method\n",
    "    for local_epochs in local_epochs_list:\n",
    "        print(f\"Running {method} with mu={mu_value} and local_epochs={local_epochs}...\")\n",
    "        \n",
    "        # Generate a unique output directory or file name based on the local_epochs\n",
    "        specific_output_dir = f\"{output_data_dir}/fedprox_mu{mu_value}_epochs{local_epochs}_R{R}\"\n",
    "        \n",
    "        # Create the output directory if needed\n",
    "        subprocess.run(f\"mkdir -p {specific_output_dir}\", shell=True)\n",
    "    \n",
    "        # Run the simulation with the specified local epochs\n",
    "        subprocess.run(\n",
    "            f\"python simulation/simulation_main.py --method {method} --num_clients {num_clients} \"\n",
    "            f\"--lr_global {global_lr_fedprox} --lr_local {local_lr_fedprox} --mu {mu_value} \"\n",
    "            f\"--input_dim {input_dim} --num_classes {num_classes} --local_epochs {local_epochs} \"\n",
    "            f\"--data_dir {data_dir} --output_data_dir {specific_output_dir} \"\n",
    "            f\"--stopping_threshold {stopping_threshold} --num_rounds {num_rounds} \"\n",
    "            f\"--record_error stat\", shell=True, check=True)\n",
    "            \n",
    "\n",
    "end_time = datetime.now().strftime('%Y-%m-%d %H:%M:%S')\n",
    "print(f\"End time: {end_time}\")"
   ]
  },
  {
   "cell_type": "markdown",
   "metadata": {},
   "source": [
    "## Visualize the Results"
   ]
  },
  {
   "cell_type": "code",
   "execution_count": 9,
   "metadata": {},
   "outputs": [],
   "source": [
    "# FOR Total Error Visualizaiton\n",
    "# Convert the lists into space-separated strings\n",
    "R_value = R_combined[0]\n",
    "local_epochs_str = ' '.join(map(str, local_epochs_list))\n",
    "\n",
    "# Command for subprocess\n",
    "command = f\"python simulation/visualize_local_epochs.py --output_data_dir {output_data_dir} --R_value {R_value} --mu {mu_value} --local_epochs_list {local_epochs_str}\"\n",
    "\n",
    "# Run the command using subprocess\n",
    "subprocess.run(command, shell=True, check=True)"
   ]
  }
 ],
 "metadata": {
  "kernelspec": {
   "display_name": "Python (fedprox)",
   "language": "python",
   "name": "fedprox"
  }
 },
 "nbformat": 4,
 "nbformat_minor": 2
}
